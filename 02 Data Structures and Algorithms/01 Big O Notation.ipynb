{
 "cells": [
  {
   "cell_type": "markdown",
   "metadata": {},
   "source": [
    "#### Let us consider two examples"
   ]
  },
  {
   "cell_type": "code",
   "execution_count": 9,
   "metadata": {},
   "outputs": [],
   "source": [
    "def sum1(n):\n",
    "    result = 0\n",
    "    for i in range(n+1):\n",
    "        result += i\n",
    "    return result\n",
    "\n",
    "def sum2(n):\n",
    "    return n*(n+1)/2"
   ]
  },
  {
   "cell_type": "code",
   "execution_count": 10,
   "metadata": {},
   "outputs": [
    {
     "data": {
      "text/plain": [
       "15"
      ]
     },
     "execution_count": 10,
     "metadata": {},
     "output_type": "execute_result"
    }
   ],
   "source": [
    "sum1(5)"
   ]
  },
  {
   "cell_type": "code",
   "execution_count": 11,
   "metadata": {},
   "outputs": [
    {
     "data": {
      "text/plain": [
       "15.0"
      ]
     },
     "execution_count": 11,
     "metadata": {},
     "output_type": "execute_result"
    }
   ],
   "source": [
    "sum2(5)"
   ]
  },
  {
   "cell_type": "code",
   "execution_count": 12,
   "metadata": {},
   "outputs": [
    {
     "name": "stdout",
     "output_type": "stream",
     "text": [
      "19.8 µs ± 326 ns per loop (mean ± std. dev. of 7 runs, 100000 loops each)\n"
     ]
    }
   ],
   "source": [
    "#check how much time sum1 took\n",
    "%timeit sum1(200)"
   ]
  },
  {
   "cell_type": "code",
   "execution_count": 13,
   "metadata": {},
   "outputs": [
    {
     "name": "stdout",
     "output_type": "stream",
     "text": [
      "361 ns ± 11.5 ns per loop (mean ± std. dev. of 7 runs, 1000000 loops each)\n"
     ]
    }
   ],
   "source": [
    "%timeit sum2(200)"
   ]
  },
  {
   "cell_type": "markdown",
   "metadata": {},
   "source": [
    "It is clearly noted that sum1 function takes more times compared to sum2 because sum1 has to run n times of sum2.\n",
    "<br/> To compare the runtime independent of laptops processor and memory, we have come with something called Big O."
   ]
  },
  {
   "cell_type": "markdown",
   "metadata": {},
   "source": [
    "# Big O Notation\n",
    "is a simple way of measuring the code's efficiency in the runtime. Its a way of saying how is our codes proportional to the input size in terms of time and speed. We usually look at the worst case."
   ]
  },
  {
   "cell_type": "markdown",
   "metadata": {},
   "source": [
    "https://www.interviewcake.com/ is the best resource to learn data structures as far as I have seen. Its simple, lucid and problem-oriented which will help you to increase your programming skills within a short period of time.\n",
    "\n",
    "You can also look over at this link to learn BigO Notation: https://www.youtube.com/watch?v=v4cd1O4zkGw"
   ]
  },
  {
   "cell_type": "code",
   "execution_count": 1,
   "metadata": {},
   "outputs": [],
   "source": [
    "#For example the following code runs in O(1),\n",
    "#As the code will run a single time, no matter how big the n is\n",
    "def func0(n):\n",
    "    print(n)"
   ]
  },
  {
   "cell_type": "code",
   "execution_count": 2,
   "metadata": {},
   "outputs": [
    {
     "name": "stdout",
     "output_type": "stream",
     "text": [
      "5\n"
     ]
    }
   ],
   "source": [
    "func0(5)"
   ]
  },
  {
   "cell_type": "code",
   "execution_count": 3,
   "metadata": {},
   "outputs": [],
   "source": [
    "#It O(n) because the code iterates n times\n",
    "def func1(n):\n",
    "    for i in range(0,n):\n",
    "        print(i)"
   ]
  },
  {
   "cell_type": "code",
   "execution_count": 4,
   "metadata": {},
   "outputs": [
    {
     "name": "stdout",
     "output_type": "stream",
     "text": [
      "0\n",
      "1\n",
      "2\n",
      "3\n",
      "4\n"
     ]
    }
   ],
   "source": [
    "func1(5)"
   ]
  },
  {
   "cell_type": "code",
   "execution_count": 5,
   "metadata": {},
   "outputs": [],
   "source": [
    "#Its O(n^2) because the code is going to iterate about square of n times.\n",
    "#Fundamentally, bigO is indicating how the runtime is dependent on the input N\n",
    "def func2(n):\n",
    "    for i in range(0,n):\n",
    "        for j in range(0,i):\n",
    "            print(i,j)"
   ]
  },
  {
   "cell_type": "markdown",
   "metadata": {},
   "source": [
    "By now, you must have got some rough ideas about how the Big O notation. \n",
    "<br/> As we are going to apply Big O in coming programming approaches, things are going to be more clear.\n",
    "<br/>\n",
    "<br/> BigO is important, because as the input scales larger, we need to tweak the codes in order to reduce bigO, so that we can run our applications with limited infrastructures."
   ]
  },
  {
   "cell_type": "code",
   "execution_count": 7,
   "metadata": {},
   "outputs": [
    {
     "name": "stdout",
     "output_type": "stream",
     "text": [
      "1 0\n",
      "2 0\n",
      "2 1\n",
      "3 0\n",
      "3 1\n",
      "3 2\n",
      "4 0\n",
      "4 1\n",
      "4 2\n",
      "4 3\n"
     ]
    }
   ],
   "source": [
    "func2(5)"
   ]
  },
  {
   "cell_type": "markdown",
   "metadata": {},
   "source": [
    "# Some common bigO examples"
   ]
  },
  {
   "cell_type": "markdown",
   "metadata": {},
   "source": [
    "<img src = 'https://miro.medium.com/max/2928/1*5ZLci3SuR0zM_QlZOADv8Q.jpeg'>"
   ]
  },
  {
   "cell_type": "markdown",
   "metadata": {},
   "source": [
    "### What do you think is the BigO of the following program?"
   ]
  },
  {
   "cell_type": "code",
   "execution_count": 8,
   "metadata": {},
   "outputs": [],
   "source": [
    "def another_function(N):\n",
    "    for i in N:\n",
    "        for j in range(0,i):\n",
    "            print(j)\n",
    "    for k in N:\n",
    "        print(k)\n",
    "        print('Ok')"
   ]
  },
  {
   "cell_type": "markdown",
   "metadata": {},
   "source": [
    "It looks like N<sup>2</sup> + 2N.\n",
    "<br/> But we ignore constants and smaller variables, We only care about the algebric term which scales the highest.\n",
    "<br/> In above code, the runtime is simply O(n<sup>2</sup>)\n",
    "<br/>\n",
    "<br/> Similarily for, O(n<sup>3</sup> + 6n<sup>2</sup> + 1000)) is would just be O(n<sup>3</sup>).\n",
    "<br/> To be honest, 6n<sup>2</sup> + 1000 matters as well in the runtime, but it is usually considered if we are able to reduce the main n<sup>3</sup>, others would also get reduced as well."
   ]
  },
  {
   "cell_type": "markdown",
   "metadata": {},
   "source": [
    "And yes, we are always looking for worst case."
   ]
  },
  {
   "cell_type": "markdown",
   "metadata": {},
   "source": [
    "## Space Complexity"
   ]
  },
  {
   "cell_type": "code",
   "execution_count": 9,
   "metadata": {},
   "outputs": [],
   "source": [
    "def func0(n):\n",
    "    print(n)\n",
    "\n",
    "def func1(n):\n",
    "    for i in range(0,n):\n",
    "        print('hello',i)"
   ]
  },
  {
   "cell_type": "markdown",
   "metadata": {},
   "source": [
    "Both of the above function has the space complexity of O(1) because they store **INPUT as a SINGLE VARIABLE**."
   ]
  },
  {
   "cell_type": "code",
   "execution_count": 11,
   "metadata": {},
   "outputs": [],
   "source": [
    "def method1(N):\n",
    "    result = []\n",
    "    for i in range(N):\n",
    "        result.append(i)\n",
    "    return result"
   ]
  },
  {
   "cell_type": "markdown",
   "metadata": {},
   "source": [
    "As you clearly have noticed, we stored **N** number of variables in our memory before returning our result which shows the space complexity is of **O(n)**"
   ]
  },
  {
   "cell_type": "markdown",
   "metadata": {},
   "source": [
    "Whenever we need to mention space complexity we usually look at the additional space required by our program in the memory and we ignore input sizes as we cannot tweak input size for the sake of space complexity. Just look at the following example."
   ]
  },
  {
   "cell_type": "code",
   "execution_count": 12,
   "metadata": {},
   "outputs": [],
   "source": [
    "def totalsum(arr):\n",
    "    result = 0\n",
    "    for i in arr:\n",
    "        result = result + i\n",
    "    return result"
   ]
  },
  {
   "cell_type": "markdown",
   "metadata": {},
   "source": [
    "Although, our code ran over n times, n being the length of arr but we took a single additional variable, 'i' which iterated over the input list arr. So the space complexity is O(1)"
   ]
  },
  {
   "cell_type": "markdown",
   "metadata": {},
   "source": [
    "Please look at the time complexity of lists, set and dictionary so that you will have a better idea of what to use while optimizing your algorithms.\n",
    "https://wiki.python.org/moin/TimeComplexity"
   ]
  },
  {
   "cell_type": "code",
   "execution_count": null,
   "metadata": {},
   "outputs": [],
   "source": []
  }
 ],
 "metadata": {
  "kernelspec": {
   "display_name": "Python 3",
   "language": "python",
   "name": "python3"
  },
  "language_info": {
   "codemirror_mode": {
    "name": "ipython",
    "version": 3
   },
   "file_extension": ".py",
   "mimetype": "text/x-python",
   "name": "python",
   "nbconvert_exporter": "python",
   "pygments_lexer": "ipython3",
   "version": "3.6.5"
  }
 },
 "nbformat": 4,
 "nbformat_minor": 2
}
