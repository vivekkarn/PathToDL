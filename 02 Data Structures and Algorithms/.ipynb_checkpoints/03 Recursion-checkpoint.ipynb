{
 "cells": [
  {
   "cell_type": "markdown",
   "metadata": {},
   "source": [
    "## Recursion\n",
    "is one of the most confusing topic for many students. No matter how much pro a programmer is, they still get stuck in figuring out some recursion. <br/>\n",
    "I myself being a noob programmer, I'll try to introduce it as simply as possible"
   ]
  },
  {
   "cell_type": "code",
   "execution_count": 1,
   "metadata": {},
   "outputs": [],
   "source": [
    "def factorial(n):\n",
    "    #base case\n",
    "    if n==1:\n",
    "        return 1\n",
    "    return n * factorial(n-1)"
   ]
  },
  {
   "cell_type": "code",
   "execution_count": 2,
   "metadata": {},
   "outputs": [
    {
     "data": {
      "text/plain": [
       "120"
      ]
     },
     "execution_count": 2,
     "metadata": {},
     "output_type": "execute_result"
    }
   ],
   "source": [
    "factorial(5)"
   ]
  },
  {
   "cell_type": "markdown",
   "metadata": {},
   "source": [
    "##### Try to figure out the above code\n",
    "- Take a paper\n",
    "- Assume few inputs like n = 3 or 4\n",
    "- Scribble down the execution till the result\n",
    "- Make sure you keep track of variables and results of functions\n",
    "- Then try to figure out the logic of code\n",
    "- Keep repeating it, till you understand it."
   ]
  },
  {
   "cell_type": "markdown",
   "metadata": {},
   "source": [
    "To simplify the above code, lets divide it into two parts:\n",
    "\n",
    "**Base case**<br/>\n",
    "```python\n",
    "if n== 1:\n",
    "   return 1\n",
    "```\n",
    "We always need a base to tell the compiler when to stop recursion otherwise it would be a never ending loop.\n",
    "* Here we stop if the values of n equals to 1\n",
    "    \n",
    "**Recursive case**<br/>\n",
    "```python\n",
    "return n * factorial(n-1)\n",
    "```\n",
    "Here we recurse the function. "
   ]
  },
  {
   "cell_type": "markdown",
   "metadata": {},
   "source": [
    "For better understanding of the recursion, please look at https://www.youtube.com/watch?v=wMNrSM5RFMc"
   ]
  },
  {
   "cell_type": "code",
   "execution_count": 3,
   "metadata": {},
   "outputs": [],
   "source": [
    "# The Fibonacci Sequence is the series of numbers: 0, 1, 1, 2, 3, 5, 8, 13, 21, 34, ... \n",
    "# The next number is found by adding up the two numbers\n",
    "\n",
    "def fibonacci(n):\n",
    "    #Base case\n",
    "    if n == 1 or n == 2:\n",
    "        return 1\n",
    "    \n",
    "    #Recursive case\n",
    "    return fibonacci(n - 1) + (fibonacci(n - 2))"
   ]
  },
  {
   "cell_type": "code",
   "execution_count": 4,
   "metadata": {},
   "outputs": [
    {
     "data": {
      "text/plain": [
       "13"
      ]
     },
     "execution_count": 4,
     "metadata": {},
     "output_type": "execute_result"
    }
   ],
   "source": [
    "fibonacci(7)"
   ]
  },
  {
   "cell_type": "markdown",
   "metadata": {},
   "source": [
    "Please practise more recursive cases before moving forward : https://www.w3resource.com/python-exercises/data-structures-and-algorithms/python-recursion.php#EDITOR"
   ]
  },
  {
   "cell_type": "markdown",
   "metadata": {},
   "source": [
    "## Binary Search using recursion"
   ]
  },
  {
   "cell_type": "code",
   "execution_count": 5,
   "metadata": {},
   "outputs": [],
   "source": [
    "def binarysearch(arr, key):\n",
    "    if (key > arr[-1]) or (key < arr[0]):\n",
    "        return False\n",
    "\n",
    "    if len(arr) == 1 and arr[0] != key:\n",
    "        return False\n",
    "\n",
    "    midpoint = len(arr) // 2\n",
    "\n",
    "    if key == arr[midpoint]:\n",
    "        return True\n",
    "\n",
    "    elif key < arr[midpoint]:\n",
    "        return binarysearch(arr[:midpoint], key)\n",
    "    else:\n",
    "        return binarysearch(arr[midpoint:], key)"
   ]
  },
  {
   "cell_type": "code",
   "execution_count": 6,
   "metadata": {},
   "outputs": [
    {
     "data": {
      "text/plain": [
       "False"
      ]
     },
     "execution_count": 6,
     "metadata": {},
     "output_type": "execute_result"
    }
   ],
   "source": [
    "example = [10, 20, 30, 40, 50, 60, 70, 80, 90]\n",
    "find = 67\n",
    "binarysearch(example,find)"
   ]
  },
  {
   "cell_type": "code",
   "execution_count": 7,
   "metadata": {},
   "outputs": [
    {
     "data": {
      "text/plain": [
       "True"
      ]
     },
     "execution_count": 7,
     "metadata": {},
     "output_type": "execute_result"
    }
   ],
   "source": [
    "example = [10, 20, 30, 40, 50, 60, 70, 80, 90]\n",
    "find = 80\n",
    "binarysearch(example,find)"
   ]
  },
  {
   "cell_type": "code",
   "execution_count": null,
   "metadata": {},
   "outputs": [],
   "source": []
  }
 ],
 "metadata": {
  "kernelspec": {
   "display_name": "Python 3",
   "language": "python",
   "name": "python3"
  },
  "language_info": {
   "codemirror_mode": {
    "name": "ipython",
    "version": 3
   },
   "file_extension": ".py",
   "mimetype": "text/x-python",
   "name": "python",
   "nbconvert_exporter": "python",
   "pygments_lexer": "ipython3",
   "version": "3.6.5"
  }
 },
 "nbformat": 4,
 "nbformat_minor": 2
}
