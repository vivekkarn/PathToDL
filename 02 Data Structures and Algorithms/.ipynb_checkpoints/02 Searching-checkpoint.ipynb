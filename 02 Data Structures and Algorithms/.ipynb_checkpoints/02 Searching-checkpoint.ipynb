{
 "cells": [
  {
   "cell_type": "markdown",
   "metadata": {},
   "source": [
    "## Searching\n",
    "is one of the most important field in Computer Science. \n",
    "<br/> For eg, there are over billions of users in Facebook and if you try to search your friend, how much time and processing it would take to look at every names before it reaches the name of your friend. <br/> And to make matter worse, at any given time millions of people are searching on Facebook.\n",
    "<br/> **Did you ever figure it out, how do they do it? **\n",
    "<br/>What is the most efficient way of finding a number in millions of numbers?"
   ]
  },
  {
   "cell_type": "code",
   "execution_count": 1,
   "metadata": {},
   "outputs": [],
   "source": [
    "#So, lets start with a simple searching\n",
    "import numpy as np"
   ]
  },
  {
   "cell_type": "code",
   "execution_count": 2,
   "metadata": {},
   "outputs": [
    {
     "data": {
      "text/plain": [
       "array([ 9,  2, 39, 24, 40, 36, 44, 38, 10, 49, 39, 12,  1, 10, 35,  8, 44,\n",
       "       41, 43,  2])"
      ]
     },
     "execution_count": 2,
     "metadata": {},
     "output_type": "execute_result"
    }
   ],
   "source": [
    "A = np.random.randint(0,50,size = 20)\n",
    "A"
   ]
  },
  {
   "cell_type": "code",
   "execution_count": 3,
   "metadata": {},
   "outputs": [],
   "source": [
    "def search(arr,N):\n",
    "    i = 0\n",
    "    while i < len(arr):\n",
    "        if arr[i] == N:\n",
    "            return True\n",
    "        i += 1\n",
    "    return False"
   ]
  },
  {
   "cell_type": "code",
   "execution_count": 4,
   "metadata": {},
   "outputs": [
    {
     "data": {
      "text/plain": [
       "False"
      ]
     },
     "execution_count": 4,
     "metadata": {},
     "output_type": "execute_result"
    }
   ],
   "source": [
    "search(A,32)"
   ]
  },
  {
   "cell_type": "markdown",
   "metadata": {},
   "source": [
    "#### Before moving forward, what do you think is the space and time complexity of the above code?"
   ]
  },
  {
   "cell_type": "markdown",
   "metadata": {},
   "source": [
    "Time complexity is O(n) because it had to iterate over n times, n being the length of input arr.\n",
    "<br/> Space complexity is O(1) because it had to store a single **additional** variable 'i'."
   ]
  },
  {
   "cell_type": "markdown",
   "metadata": {},
   "source": [
    "## Binary Search\n",
    "Its a slightly better way of finding the key provided the given array is sorted.\n",
    "<br/> Try to figure out the code.\n",
    "##### According to me the best way to understand any given code is \n",
    "- Take a paper\n",
    "- Assume few inputs\n",
    "- Scribble down the execution till the result\n",
    "- Make sure you keep track of variables and results of functions\n",
    "- Then try to figure out the logic of code\n",
    "- Keep repeating it, till you understand it."
   ]
  },
  {
   "cell_type": "code",
   "execution_count": 5,
   "metadata": {},
   "outputs": [],
   "source": [
    "def binarysearch(arr,key):\n",
    "    if len(arr) == 0:\n",
    "        raise ValueError('There are no elements in the given array.')\n",
    "    \n",
    "    #If the key is either smaller than the smallest element \n",
    "    # or larger than the largest element of the array\n",
    "    # we assume the list is sorted\n",
    "    if (key > arr[-1]) or (key < arr[0]):\n",
    "        return False\n",
    "    \n",
    "    start = 0\n",
    "    end = len(arr)\n",
    "    \n",
    "    while start + 1 < end:\n",
    "        midpoint = (start + end) // 2\n",
    "        \n",
    "        if key == arr[midpoint]:\n",
    "            return True\n",
    "        \n",
    "        elif key < arr[midpoint]:\n",
    "            end = midpoint\n",
    "        \n",
    "        else:\n",
    "            start = midpoint\n",
    "    \n",
    "    #We reached till end meaning we couldn't find the element.\n",
    "    return False"
   ]
  },
  {
   "cell_type": "code",
   "execution_count": 6,
   "metadata": {},
   "outputs": [
    {
     "data": {
      "text/plain": [
       "False"
      ]
     },
     "execution_count": 6,
     "metadata": {},
     "output_type": "execute_result"
    }
   ],
   "source": [
    "example = [10, 20, 30, 40, 50, 60, 70, 80, 90]\n",
    "find = 67\n",
    "binarysearch(example,find)"
   ]
  },
  {
   "cell_type": "markdown",
   "metadata": {},
   "source": [
    "If you still didnt get the binary search, please look at the detailed explanation from geeksforgeeks https://www.geeksforgeeks.org/binary-search/"
   ]
  },
  {
   "cell_type": "code",
   "execution_count": 7,
   "metadata": {},
   "outputs": [
    {
     "data": {
      "text/plain": [
       "False"
      ]
     },
     "execution_count": 7,
     "metadata": {},
     "output_type": "execute_result"
    }
   ],
   "source": [
    "find = 10\n",
    "binarysearch(example,find)"
   ]
  },
  {
   "cell_type": "markdown",
   "metadata": {},
   "source": [
    "##### So, what do you think is the time and space complexity of the above program?"
   ]
  },
  {
   "cell_type": "markdown",
   "metadata": {},
   "source": [
    "Its a bit tricky and you high school mathematics comes to play here.\n",
    "<br/> One thing you easily would have noticed that, we are dividing the array in half in every iteration of the while loop.\n",
    "<br/> That is, we halved the array of length 8 into 4 and then checked, then we halfed it into 2 and again halfed it till we got the last element till we returned False.\n"
   ]
  },
  {
   "cell_type": "markdown",
   "metadata": {},
   "source": [
    "Meaning if have an input of length 8, in worst case scenario we would have to half it upto 3 times till we arrive at the last element. <br/>\n",
    "8 x <sup>1</sup>&frasl;<sub> 2</sub> x <sup>1</sup>&frasl;<sub> 2</sub> x <sup>1</sup>&frasl;<sub> 2</sub> <br/>\n",
    "or 8 * (&frac12;)<sup>3</sup> <br/>\n",
    "= 1"
   ]
  },
  {
   "cell_type": "markdown",
   "metadata": {},
   "source": [
    "There you go, we are dividing by 2 each time and how many times should we divide it??<br/>\n",
    "log<sub>2</sub>N is the answer. Whats log<sub>2</sub> of 8, its 3."
   ]
  },
  {
   "cell_type": "markdown",
   "metadata": {},
   "source": [
    "To get a better understanding of logarithms from CS point of view, please look at https://www.interviewcake.com/article/python/logarithms?"
   ]
  },
  {
   "cell_type": "code",
   "execution_count": null,
   "metadata": {},
   "outputs": [],
   "source": []
  }
 ],
 "metadata": {
  "kernelspec": {
   "display_name": "Python 3",
   "language": "python",
   "name": "python3"
  },
  "language_info": {
   "codemirror_mode": {
    "name": "ipython",
    "version": 3
   },
   "file_extension": ".py",
   "mimetype": "text/x-python",
   "name": "python",
   "nbconvert_exporter": "python",
   "pygments_lexer": "ipython3",
   "version": "3.6.5"
  }
 },
 "nbformat": 4,
 "nbformat_minor": 2
}
