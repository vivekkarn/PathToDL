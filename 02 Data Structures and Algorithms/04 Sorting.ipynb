{
 "cells": [
  {
   "cell_type": "markdown",
   "metadata": {},
   "source": [
    "# Sorting \n",
    "is an important topic to learn for any code interviews"
   ]
  },
  {
   "cell_type": "markdown",
   "metadata": {},
   "source": [
    "Before that let's learn something important about characteristics of list in python\n",
    "##### List in Python is a dynamic array."
   ]
  },
  {
   "cell_type": "markdown",
   "metadata": {},
   "source": [
    "### Pros\n",
    "- Fast lookups\n",
    "- Variable size\n",
    "- Cache friendly\n",
    "\n",
    "### Cons\n",
    "- Costly inserts and deletes like other arrays\n",
    "- Appends can become O(n) if the list is already saturated.\n",
    "- Please read more at https://www.interviewcake.com/concept/python3/dynamic-array"
   ]
  },
  {
   "cell_type": "markdown",
   "metadata": {},
   "source": [
    "##### Most common sorting algorithms are:\n",
    "    1. Bubble Sort\n",
    "    2. Selection Sort\n",
    "    3. Insertion Sort\n",
    "    4. Merge Sort\n",
    "    5. Heap Sort\n",
    "    6. Quick Sort\n",
    "    7. Sorting in Python\n"
   ]
  },
  {
   "cell_type": "markdown",
   "metadata": {},
   "source": [
    "## Bubble Sort\n",
    "It is one a simple sort."
   ]
  },
  {
   "cell_type": "code",
   "execution_count": 1,
   "metadata": {},
   "outputs": [],
   "source": [
    "def bubble_sort(arr):\n",
    "    for i in range(len(arr)):\n",
    "        for j in range(len(arr)-1):\n",
    "            if arr[j] > arr[j+1]:\n",
    "                arr[j], arr[j+1] = arr[j+1], arr[j]\n",
    "    return arr\n",
    "        "
   ]
  },
  {
   "cell_type": "code",
   "execution_count": 2,
   "metadata": {},
   "outputs": [
    {
     "data": {
      "text/plain": [
       "[1, 2, 4, 5, 8]"
      ]
     },
     "execution_count": 2,
     "metadata": {},
     "output_type": "execute_result"
    }
   ],
   "source": [
    "random_list_of_nums = [5, 2, 1, 8, 4]\n",
    "bubble_sort(random_list_of_nums)\n",
    "random_list_of_nums"
   ]
  },
  {
   "cell_type": "markdown",
   "metadata": {},
   "source": [
    "Time complexity of Bubble Sort is O(n<sup>2</sup>)\n",
    "<br/>Space complexity of Bubble Sort is O(1)"
   ]
  },
  {
   "cell_type": "markdown",
   "metadata": {},
   "source": [
    "## Selection Sort"
   ]
  },
  {
   "cell_type": "code",
   "execution_count": 27,
   "metadata": {},
   "outputs": [],
   "source": [
    "def selection_sort(arr):\n",
    "\n",
    "    for i in range(len(arr)):\n",
    "\n",
    "        for j in range(len(arr) - 1):\n",
    "            if arr[j] > arr[i]:\n",
    "                \n",
    "                arr[j], arr[i] = arr[i], arr[j]\n",
    "\n",
    "    return arr\n",
    "        \n",
    "        "
   ]
  },
  {
   "cell_type": "code",
   "execution_count": 28,
   "metadata": {},
   "outputs": [
    {
     "data": {
      "text/plain": [
       "[1, 2, 4, 5, 8]"
      ]
     },
     "execution_count": 28,
     "metadata": {},
     "output_type": "execute_result"
    }
   ],
   "source": [
    "example = [5, 2, 1, 8, 4]\n",
    "selection_sort(example)"
   ]
  },
  {
   "cell_type": "markdown",
   "metadata": {},
   "source": [
    "Time complexity of Selection Sort is O(n<sup>2</sup>)\n",
    "<br/>Space complexity of Selection Sort is O(1)"
   ]
  },
  {
   "cell_type": "code",
   "execution_count": 9,
   "metadata": {},
   "outputs": [],
   "source": [
    "test = Node('vivek')"
   ]
  },
  {
   "cell_type": "markdown",
   "metadata": {},
   "source": [
    "# Merge Sort"
   ]
  },
  {
   "cell_type": "markdown",
   "metadata": {},
   "source": [
    "First of all, lets learn how to merge two sorted arrays."
   ]
  },
  {
   "cell_type": "code",
   "execution_count": 30,
   "metadata": {},
   "outputs": [],
   "source": [
    "def merge_lists(arr1, arr2):\n",
    "    i = 0\n",
    "    j = 0\n",
    "    k = 0\n",
    "    arr = [0] * (len(arr1) + len(arr2))\n",
    "\n",
    "    while i < len(arr1) and j < len(arr2):\n",
    "        if arr1[i] < arr2[j]:\n",
    "            arr[k] = arr1[i]\n",
    "            i += 1\n",
    "        else:\n",
    "            arr[k] = arr2[j]\n",
    "            j += 1\n",
    "        k += 1\n",
    "\n",
    "    while i < len(arr1):\n",
    "        arr[k] = arr1[i]\n",
    "        i += 1\n",
    "        k += 1\n",
    "\n",
    "    while j < len(arr2):\n",
    "        arr[k] = arr2[j]\n",
    "        j += 1\n",
    "        k += 1\n",
    "\n",
    "    return arr"
   ]
  },
  {
   "cell_type": "code",
   "execution_count": 32,
   "metadata": {},
   "outputs": [
    {
     "data": {
      "text/plain": [
       "[1, 3, 4, 5, 6, 8, 10, 11, 12, 14, 15, 19]"
      ]
     },
     "execution_count": 32,
     "metadata": {},
     "output_type": "execute_result"
    }
   ],
   "source": [
    "my_list = [3, 4, 6, 10, 11, 15]\n",
    "alices_list = [1, 5, 8, 12, 14, 19]\n",
    "merge_lists(my_list, alices_list)"
   ]
  },
  {
   "cell_type": "markdown",
   "metadata": {},
   "source": [
    "To get a better concept of Merge Sort visually please look over to https://www.youtube.com/watch?v=JSceec-wEyw"
   ]
  },
  {
   "cell_type": "code",
   "execution_count": 33,
   "metadata": {},
   "outputs": [],
   "source": [
    "def merge_sort(arr):\n",
    "    if len(arr) > 1:\n",
    "        mid = len(arr)//2\n",
    "        left = arr[:mid]\n",
    "        right = arr[mid:]\n",
    "\n",
    "        merge_sort(left)\n",
    "        merge_sort(right)\n",
    "\n",
    "        i = 0\n",
    "        j = 0\n",
    "        k = 0\n",
    "        while i < len(left) and j < len(right):\n",
    "            if left[i] < right[j]:\n",
    "                arr[k] = left[i]\n",
    "                i += 1\n",
    "            else:\n",
    "                arr[k] = right[j]\n",
    "                j += 1\n",
    "            k += 1\n",
    "\n",
    "        while i < len(left):\n",
    "            arr[k] = left[i]\n",
    "            i += 1\n",
    "            k += 1\n",
    "\n",
    "        while j < len(right):\n",
    "            arr[k] = right[j]\n",
    "            j += 1\n",
    "            k += 1\n",
    "    return arr"
   ]
  },
  {
   "cell_type": "code",
   "execution_count": 35,
   "metadata": {},
   "outputs": [
    {
     "data": {
      "text/plain": [
       "[1, 2, 3, 4, 6, 7, 8, 9]"
      ]
     },
     "execution_count": 35,
     "metadata": {},
     "output_type": "execute_result"
    }
   ],
   "source": [
    "A = [8, 4, 1, 2, 7, 9, 6, 3]\n",
    "merge_sort(A)"
   ]
  },
  {
   "cell_type": "markdown",
   "metadata": {},
   "source": [
    "Merge Sort is a divide and conquer algorithm. Please make sure that you understand Merge Sort fully before moving forwards, as merge sort is an important concept in most of the competitive programming questions."
   ]
  },
  {
   "cell_type": "markdown",
   "metadata": {},
   "source": [
    "Time complexity of the Merge Sort is O(logN). Remember, we are dividing the list in half in each iteration.\n",
    "<br/> Space complexity of the Merge Sort is O(N) because we are copying entire lists."
   ]
  },
  {
   "cell_type": "markdown",
   "metadata": {},
   "source": [
    "Please look at other sorting algorithms yourself.\n",
    "<br/> Practise makes a man perfect. ;)"
   ]
  },
  {
   "cell_type": "code",
   "execution_count": null,
   "metadata": {},
   "outputs": [],
   "source": []
  }
 ],
 "metadata": {
  "kernelspec": {
   "display_name": "Python 3",
   "language": "python",
   "name": "python3"
  },
  "language_info": {
   "codemirror_mode": {
    "name": "ipython",
    "version": 3
   },
   "file_extension": ".py",
   "mimetype": "text/x-python",
   "name": "python",
   "nbconvert_exporter": "python",
   "pygments_lexer": "ipython3",
   "version": "3.6.5"
  }
 },
 "nbformat": 4,
 "nbformat_minor": 2
}
